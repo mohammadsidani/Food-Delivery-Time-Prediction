{
  "cells": [
    {
      "cell_type": "code",
      "execution_count": null,
      "metadata": {
        "id": "_16cYWh0DU3k"
      },
      "outputs": [],
      "source": [
        "import pandas as pd\n",
        "import numpy as np\n",
        "import plotly.express as px\n",
        "from google.colab import files\n",
        "data = files.upload()\n",
        "data = pd.read_csv(\"deliverytime.txt\")\n",
        "print(data.head())"
      ]
    },
    {
      "cell_type": "code",
      "execution_count": null,
      "metadata": {
        "id": "Z_Yaad49I4Z9"
      },
      "outputs": [],
      "source": [
        "data.info()"
      ]
    },
    {
      "cell_type": "code",
      "execution_count": null,
      "metadata": {
        "id": "UHUxufxVJBjs"
      },
      "outputs": [],
      "source": [
        "data.isnull().sum"
      ]
    },
    {
      "cell_type": "code",
      "execution_count": 19,
      "metadata": {
        "id": "FRSjPBChJVZv"
      },
      "outputs": [],
      "source": [
        "# Set the earth's radius (in kilometers)\n",
        "R = 6371\n",
        "\n",
        "# Convert degrees to radians\n",
        "def deg_to_rad(degrees):\n",
        "  return degrees * (np.pi/180)\n",
        "\n",
        "# Function to calculate the distance between two points using the haversine formula\n",
        "def distcalculate(lat1, lon1, lat2, lon2):\n",
        "  d_lat = deg_to_rad(lat2-lat1)\n",
        "  d_lon = deg_to_rad(lon2-lon1)\n",
        "  a = np.sin(d_lat/2)**2 + np.cos(deg_to_rad(lat1)) * np.cos(deg_to_rad(lat2)) * np.sin(d_lon/2)**2\n",
        "  c = 2 * np.arctan2(np.sqrt(a), np.sqrt(1-a))\n",
        "  return R * c\n",
        "# Calculate the distance between each pair of points\n",
        "data['distance'] = np.nan\n",
        "\n",
        "for i in range(len(data)):\n",
        "  data.loc[i, 'distance'] = distcalculate(data.loc[i, 'Restaurant_latitude'],\n",
        "                                        data.loc[i, 'Restaurant_longitude'],\n",
        "                                        data.loc[i, 'Delivery_location_latitude'],\n",
        "                                        data.loc[i, 'Delivery_location_longitude'])"
      ]
    },
    {
      "cell_type": "code",
      "execution_count": null,
      "metadata": {
        "id": "IIifivnpLWDO"
      },
      "outputs": [],
      "source": [
        "print(data.head())"
      ]
    },
    {
      "cell_type": "code",
      "execution_count": null,
      "metadata": {
        "id": "xzd-TB5iMSUE"
      },
      "outputs": [],
      "source": [
        "figure = px.scatter(data_frame = data,\n",
        "                    x=\"distance\",\n",
        "                    y=\"Time_taken(min)\",\n",
        "                    size=\"Time_taken(min)\",\n",
        "                    trendline=\"ols\",\n",
        "                    title = \"Relationship Between Distance and Time Taken\")\n",
        "figure.show()"
      ]
    },
    {
      "cell_type": "code",
      "execution_count": null,
      "metadata": {
        "id": "HTBe9h8MNVqP"
      },
      "outputs": [],
      "source": [
        "figure = px.scatter(data_frame = data,\n",
        "                    x=\"Delivery_person_Age\",\n",
        "                    y=\"Time_taken(min)\",\n",
        "                    size=\"Time_taken(min)\",\n",
        "                    color = \"distance\",\n",
        "                    trendline=\"ols\",\n",
        "                    title = \"Relationship Between Time Taken and Age\")\n",
        "figure.show()"
      ]
    },
    {
      "cell_type": "code",
      "execution_count": null,
      "metadata": {
        "id": "7f0DvCCdNfRb"
      },
      "outputs": [],
      "source": [
        "figure = px.scatter(data_frame = data,\n",
        "                    x=\"Delivery_person_Ratings\",\n",
        "                    y=\"Time_taken(min)\",\n",
        "                    size=\"Time_taken(min)\",\n",
        "                    color = \"distance\",\n",
        "                    trendline=\"ols\",\n",
        "                    title = \"Relationship Between Time Taken and Ratings\")\n",
        "figure.show()"
      ]
    },
    {
      "cell_type": "code",
      "execution_count": null,
      "metadata": {
        "id": "lBvRl9vUNkTL"
      },
      "outputs": [],
      "source": [
        "fig = px.box(data,\n",
        "             x=\"Type_of_vehicle\",\n",
        "             y=\"Time_taken(min)\",\n",
        "             color=\"Type_of_order\")\n",
        "fig.show()"
      ]
    },
    {
      "cell_type": "code",
      "execution_count": null,
      "metadata": {
        "id": "MRPYZCf-NwKZ"
      },
      "outputs": [],
      "source": [
        "#splitting data\n",
        "from sklearn.model_selection import train_test_split\n",
        "x = np.array(data[[\"Delivery_person_Age\",\n",
        "                   \"Delivery_person_Ratings\",\n",
        "                   \"distance\"]])\n",
        "y = np.array(data[[\"Time_taken(min)\"]])\n",
        "xtrain, xtest, ytrain, ytest = train_test_split(x, y,\n",
        "                                                test_size=0.10,\n",
        "                                                random_state=42)\n",
        "\n",
        "# creating the LSTM neural network model\n",
        "from keras.models import Sequential\n",
        "from keras.layers import Dense, LSTM\n",
        "model = Sequential()\n",
        "model.add(LSTM(128, return_sequences=True, input_shape= (xtrain.shape[1], 1)))\n",
        "model.add(LSTM(64, return_sequences=False))\n",
        "model.add(Dense(25))\n",
        "model.add(Dense(1))\n",
        "model.summary()"
      ]
    },
    {
      "cell_type": "code",
      "execution_count": null,
      "metadata": {
        "id": "NEVn-rtMORmV"
      },
      "outputs": [],
      "source": [
        "# training the model\n",
        "model.compile(optimizer='adam', loss='mean_squared_error')\n",
        "model.fit(xtrain, ytrain, batch_size=1, epochs=9)"
      ]
    },
    {
      "cell_type": "code",
      "source": [
        "print(\"Food Delivery Time Prediction\")\n",
        "a = int(input(\"Age of Delivery Partner: \"))\n",
        "b = float(input(\"Ratings of Previous Deliveries: \"))\n",
        "c = int(input(\"Total Distance: \"))\n",
        "\n",
        "features = np.array([[a, b, c]])\n",
        "print(\"Predicted Delivery Time in Minutes = \", model.predict(features))"
      ],
      "metadata": {
        "id": "NPt3X1lAcoRZ"
      },
      "execution_count": null,
      "outputs": []
    }
  ],
  "metadata": {
    "colab": {
      "provenance": []
    },
    "kernelspec": {
      "display_name": "Python 3",
      "name": "python3"
    },
    "language_info": {
      "name": "python"
    }
  },
  "nbformat": 4,
  "nbformat_minor": 0
}